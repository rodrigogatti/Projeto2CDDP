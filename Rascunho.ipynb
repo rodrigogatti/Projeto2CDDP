{
 "cells": [
  {
   "cell_type": "code",
   "execution_count": 1,
   "metadata": {
    "collapsed": true
   },
   "outputs": [],
   "source": [
    "import pandas as pd\n",
    "import os\n",
    "import numpy as np"
   ]
  },
  {
   "cell_type": "code",
   "execution_count": 2,
   "metadata": {},
   "outputs": [
    {
     "name": "stdout",
     "output_type": "stream",
     "text": [
      "Esperamos trabalhar no diretório\n",
      "C:\\Users\\lucia\\OneDrive\\Documentos\\GitHub\\CD DP\\P2\\Projeto2CDDP\\Projeto2CDDP-master\n"
     ]
    }
   ],
   "source": [
    "print('Esperamos trabalhar no diretório')\n",
    "print(os.getcwd())"
   ]
  },
  {
   "cell_type": "code",
   "execution_count": 3,
   "metadata": {
    "collapsed": true
   },
   "outputs": [],
   "source": [
    "base_dados = pd.read_excel('spamhamV2.xlsx')"
   ]
  },
  {
   "cell_type": "code",
   "execution_count": 4,
   "metadata": {
    "collapsed": true
   },
   "outputs": [],
   "source": [
    "Treinamento = base_dados.sample(n=None, frac=0.75, replace=False).reset_index()\n",
    "Teste = base_dados.sample(n=None, frac=0.25, replace=False).reset_index()\n",
    "\n",
    "Treinamento = Treinamento.drop([\"index\"],axis = 1)\n",
    "Teste = Teste.drop([\"index\"],axis = 1)"
   ]
  },
  {
   "cell_type": "code",
   "execution_count": 5,
   "metadata": {
    "collapsed": true
   },
   "outputs": [],
   "source": [
    "#######"
   ]
  },
  {
   "cell_type": "code",
   "execution_count": 6,
   "metadata": {},
   "outputs": [
    {
     "data": {
      "text/html": [
       "<div>\n",
       "<style>\n",
       "    .dataframe thead tr:only-child th {\n",
       "        text-align: right;\n",
       "    }\n",
       "\n",
       "    .dataframe thead th {\n",
       "        text-align: left;\n",
       "    }\n",
       "\n",
       "    .dataframe tbody tr th {\n",
       "        vertical-align: top;\n",
       "    }\n",
       "</style>\n",
       "<table border=\"1\" class=\"dataframe\">\n",
       "  <thead>\n",
       "    <tr style=\"text-align: right;\">\n",
       "      <th></th>\n",
       "      <th>Email</th>\n",
       "      <th>Class</th>\n",
       "    </tr>\n",
       "  </thead>\n",
       "  <tbody>\n",
       "    <tr>\n",
       "      <th>0</th>\n",
       "      <td>Go until jurong point crazy Available only in ...</td>\n",
       "      <td>ham</td>\n",
       "    </tr>\n",
       "    <tr>\n",
       "      <th>1</th>\n",
       "      <td>Ok lar Joking wif u oni</td>\n",
       "      <td>ham</td>\n",
       "    </tr>\n",
       "    <tr>\n",
       "      <th>2</th>\n",
       "      <td>Free entry in 2 a wkly comp to win FA Cup fina...</td>\n",
       "      <td>spam</td>\n",
       "    </tr>\n",
       "    <tr>\n",
       "      <th>3</th>\n",
       "      <td>U dun say so early hor U c already then say</td>\n",
       "      <td>ham</td>\n",
       "    </tr>\n",
       "    <tr>\n",
       "      <th>4</th>\n",
       "      <td>Nah I don't think he goes to usf he lives arou...</td>\n",
       "      <td>ham</td>\n",
       "    </tr>\n",
       "  </tbody>\n",
       "</table>\n",
       "</div>"
      ],
      "text/plain": [
       "                                               Email Class\n",
       "0  Go until jurong point crazy Available only in ...   ham\n",
       "1                            Ok lar Joking wif u oni   ham\n",
       "2  Free entry in 2 a wkly comp to win FA Cup fina...  spam\n",
       "3        U dun say so early hor U c already then say   ham\n",
       "4  Nah I don't think he goes to usf he lives arou...   ham"
      ]
     },
     "execution_count": 6,
     "metadata": {},
     "output_type": "execute_result"
    }
   ],
   "source": [
    "n = base_dados.Email.count()\n",
    "\n",
    "troca = ['÷','  ','‰','!','@','#','$','%','¨','&','*','(',')','-','_','+','=','§','{','}','[',']','ª','º','?','/','°','\\n','|',',','.',';',':','å','£']\n",
    "\n",
    "for e in range(n):\n",
    "    base_dados.Email[e:e+1] = base_dados.Email[e:e+1].str.replace('  ',' ')\n",
    "    for i in troca:\n",
    "        base_dados.Email[e:e+1] = base_dados.Email[e:e+1].str.replace(i,'')\n",
    "\n",
    "base_dados.head()"
   ]
  },
  {
   "cell_type": "code",
   "execution_count": 7,
   "metadata": {},
   "outputs": [
    {
     "data": {
      "text/html": [
       "<div>\n",
       "<style>\n",
       "    .dataframe thead tr:only-child th {\n",
       "        text-align: right;\n",
       "    }\n",
       "\n",
       "    .dataframe thead th {\n",
       "        text-align: left;\n",
       "    }\n",
       "\n",
       "    .dataframe tbody tr th {\n",
       "        vertical-align: top;\n",
       "    }\n",
       "</style>\n",
       "<table border=\"1\" class=\"dataframe\">\n",
       "  <thead>\n",
       "    <tr style=\"text-align: right;\">\n",
       "      <th></th>\n",
       "      <th>Class</th>\n",
       "    </tr>\n",
       "  </thead>\n",
       "  <tbody>\n",
       "    <tr>\n",
       "      <th>ham</th>\n",
       "      <td>0.864322</td>\n",
       "    </tr>\n",
       "    <tr>\n",
       "      <th>spam</th>\n",
       "      <td>0.135678</td>\n",
       "    </tr>\n",
       "  </tbody>\n",
       "</table>\n",
       "</div>"
      ],
      "text/plain": [
       "         Class\n",
       "ham   0.864322\n",
       "spam  0.135678"
      ]
     },
     "execution_count": 7,
     "metadata": {},
     "output_type": "execute_result"
    }
   ],
   "source": [
    "EHAM= Treinamento.Email[Treinamento.Class=='ham'].values\n",
    "ESPAM= Treinamento.Email[Treinamento.Class=='spam'].values\n",
    "\n",
    "valuecounts_Treinamento = pd.DataFrame(Treinamento.Class.value_counts(True))\n",
    "valuecounts_Treinamento"
   ]
  },
  {
   "cell_type": "code",
   "execution_count": 8,
   "metadata": {},
   "outputs": [
    {
     "name": "stdout",
     "output_type": "stream",
     "text": [
      "De um total de 4179 emails, 3612 são considerados Ham e 567 são considerados Spam.\n",
      "Logo, a probabilidade de um email ser considerado Ham é de 86.4321608040201%, e de ser Spam é de 13.5678391959799%\n"
     ]
    }
   ],
   "source": [
    "Eham = 0\n",
    "Espam = 0 \n",
    "Etotal = len(Treinamento)\n",
    "for i in Treinamento['Class']:\n",
    "    if(i == 'ham'):\n",
    "        Eham += 1\n",
    "    else:\n",
    "        Espam+=1\n",
    "        \n",
    "print('De um total de {0} emails, {1} são considerados Ham e {2} são considerados Spam.'.format(Etotal,Eham,Espam))\n",
    "Prob_h = Eham/Etotal\n",
    "Prob_s = Espam/Etotal\n",
    "print('Logo, a probabilidade de um email ser considerado Ham é de {0}%, e de ser Spam é de {1}%'.format(Prob_h*100,Prob_s*100))"
   ]
  },
  {
   "cell_type": "code",
   "execution_count": 9,
   "metadata": {},
   "outputs": [],
   "source": [
    "dici = {}\n",
    "#dicti[\"palavra\"]= ham,spam,pham,pspam\n",
    "for i in range(Etotal):\n",
    "    for palavra in Treinamento.Email[i]:\n",
    "        if Treinamento.Class[i] == \"ham\":\n",
    "            if palavra not in dici:\n",
    "                dici[palavra] = 1,0\n",
    "            else:\n",
    "                h=dici[palavra][0]\n",
    "                s=dici[palavra][1]\n",
    "                dici[palavra]=h+1,s\n",
    "        else:\n",
    "            if palavra not in dici:\n",
    "                dici[palavra] = 0,1\n",
    "            else:\n",
    "                h=dici[palavra][0]\n",
    "                s=dici[palavra][1]\n",
    "                dici[palavra]=h,s+1\n",
    "                \n",
    "Tham=0\n",
    "Tspam=0\n",
    "for i in dici:\n",
    "    Tham+=dici[i][0]\n",
    "    Tspam+=dici[i][1]\n",
    "for i in dici:\n",
    "    h=dici[i][0]\n",
    "    s=dici[i][1]\n",
    "    P_ham=(h+1)/((Tham*2)+Tspam)\n",
    "    P_spam=(s+1)/((Tspam*2)+Tham)\n",
    "    dici[i]=h,s,P_ham,P_spam\n",
    "\n"
   ]
  },
  {
   "cell_type": "code",
   "execution_count": 10,
   "metadata": {},
   "outputs": [],
   "source": [
    "# palavras = {'palavras': palavras_total,'classificacao': classificacao}\n",
    "# wordset = pd.DataFrame(data=palavras)\n",
    "# wordset.head()\n",
    "\n",
    "# i=1 \n",
    "# while i < len(wordset):\n",
    "#     for p in dici:\n",
    "#         achou = False\n",
    "#         if wordset['palavras'][i] == p[0]:\n",
    "#             if wordset['classificacao'][i] == 'ham':\n",
    "#                 p[1] += 1\n",
    "#                 achou = True\n",
    "#                 break\n",
    "#             else:\n",
    "#                 p[2] += 1\n",
    "#                 achou = True\n",
    "#                 break\n",
    "#     if not achou:\n",
    "#         if(wordset['classificacao'][i] == 'ham'):\n",
    "#             dici.append([wordset['palavras'][i],1,0])\n",
    "#         else:\n",
    "#             dici.append([wordset['palavras'][i],0,1])\n",
    "            \n",
    "       \n",
    "#     i+=1\n",
    "\n"
   ]
  },
  {
   "cell_type": "code",
   "execution_count": 11,
   "metadata": {},
   "outputs": [],
   "source": [
    "#probabilidade de uma palavra ( ) acontecer se a mensagem na base treinamento é considerada SPAM\n",
    "# Ham = 0\n",
    "# Spam = 0 \n",
    "# for i  in dici:\n",
    "#     if h > 0:\n",
    "#         Ham+=1\n",
    "#     if s > 0:\n",
    "#         Spam+=1\n",
    "# print('A quantidade de palavras que podem ser encontradas em um email Ham é de {}, e a quantidade de palavras que podem ser encontradas em um email Spam é de {}.'.format(Ham,Spam))"
   ]
  },
  {
   "cell_type": "code",
   "execution_count": 12,
   "metadata": {},
   "outputs": [],
   "source": [
    "def NB (frase):\n",
    "    Prob_h = Eham/Etotal\n",
    "    Prob_s = Espam/Etotal\n",
    "\n",
    "    for palavra in frase:\n",
    "        if palavra in dici:\n",
    "            Prob_s = Prob_s* dici[palavra][3]\n",
    "            Prob_h=Prob_h* dici[palavra][2]\n",
    "           \n",
    "            \n",
    "        else:\n",
    "            Prob_s = (Prob_s+1)/dici\n",
    "            Prob_h = (Prob_h+1)/dici\n",
    "    if Prob_s>Prob_h:\n",
    "        return(\"spam\")\n",
    "    else:\n",
    "        return(\"ham\")\n",
    "    \n",
    "def funcao_test(Teste):\n",
    "    frase = Teste.Email\n",
    "    return NB(frase)\n",
    "\n",
    "Test = Teste.apply(funcao_test,axis=1)\n",
    "Teste[\"NB\"] = Test"
   ]
  },
  {
   "cell_type": "code",
   "execution_count": 13,
   "metadata": {},
   "outputs": [
    {
     "data": {
      "text/plain": [
       "verdadeiro negativo     1200\n",
       "falso positivo           189\n",
       "verdadeiro positivo        4\n",
       "Name: result, dtype: int64"
      ]
     },
     "execution_count": 13,
     "metadata": {},
     "output_type": "execute_result"
    }
   ],
   "source": [
    "VN=Teste.loc[(Teste.Class == \"ham\") & (Teste.NB == \"ham\"),\"result\"] = \"verdadeiro negativo\"\n",
    "VP=Teste.loc[(Teste.Class == \"spam\") & (Teste.NB == \"spam\"),\"result\"] = \"verdadeiro positivo \"\n",
    "FP=Teste.loc[(Teste.Class == \"spam\") & (Teste.NB == \"ham\"),\"result\"] = \"falso positivo\"\n",
    "FN=Teste.loc[(Teste.Class == \"ham\") & (Teste.NB == \"sam\"),\"result\"] = \"falso negativo\"\n",
    "Teste.result.value_counts()"
   ]
  },
  {
   "cell_type": "code",
   "execution_count": 14,
   "metadata": {},
   "outputs": [
    {
     "data": {
      "text/html": [
       "<div>\n",
       "<style>\n",
       "    .dataframe thead tr:only-child th {\n",
       "        text-align: right;\n",
       "    }\n",
       "\n",
       "    .dataframe thead th {\n",
       "        text-align: left;\n",
       "    }\n",
       "\n",
       "    .dataframe tbody tr th {\n",
       "        vertical-align: top;\n",
       "    }\n",
       "</style>\n",
       "<table border=\"1\" class=\"dataframe\">\n",
       "  <thead>\n",
       "    <tr style=\"text-align: right;\">\n",
       "      <th>NB</th>\n",
       "      <th>ham</th>\n",
       "      <th>spam</th>\n",
       "    </tr>\n",
       "    <tr>\n",
       "      <th>Class</th>\n",
       "      <th></th>\n",
       "      <th></th>\n",
       "    </tr>\n",
       "  </thead>\n",
       "  <tbody>\n",
       "    <tr>\n",
       "      <th>ham</th>\n",
       "      <td>1200</td>\n",
       "      <td>0</td>\n",
       "    </tr>\n",
       "    <tr>\n",
       "      <th>spam</th>\n",
       "      <td>189</td>\n",
       "      <td>4</td>\n",
       "    </tr>\n",
       "  </tbody>\n",
       "</table>\n",
       "</div>"
      ],
      "text/plain": [
       "NB      ham  spam\n",
       "Class            \n",
       "ham    1200     0\n",
       "spam    189     4"
      ]
     },
     "execution_count": 14,
     "metadata": {},
     "output_type": "execute_result"
    }
   ],
   "source": [
    "rodrigo=pd.crosstab(Teste.Class, Teste.NB)\n",
    "rodrigo"
   ]
  },
  {
   "cell_type": "code",
   "execution_count": 15,
   "metadata": {},
   "outputs": [],
   "source": [
    "VP=rodrigo.ham[0]\n",
    "FP=rodrigo.ham[1]\n",
    "FN=rodrigo.spam[0]\n",
    "VN=rodrigo.spam[1]"
   ]
  },
  {
   "cell_type": "code",
   "execution_count": 16,
   "metadata": {},
   "outputs": [
    {
     "name": "stdout",
     "output_type": "stream",
     "text": [
      "A probabilidade de acontecer um verdadeiro negativo é de 0.2871500358937545%.\n",
      "A probabilidade de acontecer um verdadeiro positivo é de 86.14501076812635%.\n",
      "A probabilidade de acontecer um falso positivo é de 13.5678391959799%.\n",
      "A probabilidade de acontecer um falso negativo é de 0.0%.\n"
     ]
    }
   ],
   "source": [
    "\n",
    "P_VN = (VN/len(Teste))*100\n",
    "P_VP = (VP/len(Teste))*100\n",
    "P_FP = (FP/len(Teste))*100\n",
    "P_FN = (FN/len(Teste))*100\n",
    "\n",
    "print(\"A probabilidade de acontecer um verdadeiro negativo é de {0}%.\" .format(P_VN))\n",
    "print(\"A probabilidade de acontecer um verdadeiro positivo é de {0}%.\" .format(P_VP))\n",
    "print(\"A probabilidade de acontecer um falso positivo é de {0}%.\" .format(P_FP))\n",
    "print(\"A probabilidade de acontecer um falso negativo é de {0}%.\" .format(P_FN))"
   ]
  },
  {
   "cell_type": "code",
   "execution_count": null,
   "metadata": {},
   "outputs": [],
   "source": []
  },
  {
   "cell_type": "code",
   "execution_count": 17,
   "metadata": {},
   "outputs": [
    {
     "data": {
      "text/html": [
       "<div>\n",
       "<style>\n",
       "    .dataframe thead tr:only-child th {\n",
       "        text-align: right;\n",
       "    }\n",
       "\n",
       "    .dataframe thead th {\n",
       "        text-align: left;\n",
       "    }\n",
       "\n",
       "    .dataframe tbody tr th {\n",
       "        vertical-align: top;\n",
       "    }\n",
       "</style>\n",
       "<table border=\"1\" class=\"dataframe\">\n",
       "  <thead>\n",
       "    <tr style=\"text-align: right;\">\n",
       "      <th></th>\n",
       "      <th>Email</th>\n",
       "      <th>Class</th>\n",
       "      <th>NB</th>\n",
       "      <th>result</th>\n",
       "    </tr>\n",
       "  </thead>\n",
       "  <tbody>\n",
       "    <tr>\n",
       "      <th>0</th>\n",
       "      <td>The 2 oz guy is being kinda flaky but one frie...</td>\n",
       "      <td>ham</td>\n",
       "      <td>ham</td>\n",
       "      <td>verdadeiro negativo</td>\n",
       "    </tr>\n",
       "    <tr>\n",
       "      <th>1</th>\n",
       "      <td>K.then any other special?</td>\n",
       "      <td>ham</td>\n",
       "      <td>ham</td>\n",
       "      <td>verdadeiro negativo</td>\n",
       "    </tr>\n",
       "    <tr>\n",
       "      <th>2</th>\n",
       "      <td>Are you staying in town ?</td>\n",
       "      <td>ham</td>\n",
       "      <td>ham</td>\n",
       "      <td>verdadeiro negativo</td>\n",
       "    </tr>\n",
       "    <tr>\n",
       "      <th>3</th>\n",
       "      <td>Yup Ì_ not comin :-(</td>\n",
       "      <td>ham</td>\n",
       "      <td>ham</td>\n",
       "      <td>verdadeiro negativo</td>\n",
       "    </tr>\n",
       "    <tr>\n",
       "      <th>4</th>\n",
       "      <td>WOT U WANNA DO THEN MISSY?</td>\n",
       "      <td>ham</td>\n",
       "      <td>ham</td>\n",
       "      <td>verdadeiro negativo</td>\n",
       "    </tr>\n",
       "  </tbody>\n",
       "</table>\n",
       "</div>"
      ],
      "text/plain": [
       "                                               Email Class   NB  \\\n",
       "0  The 2 oz guy is being kinda flaky but one frie...   ham  ham   \n",
       "1                          K.then any other special?   ham  ham   \n",
       "2                          Are you staying in town ?   ham  ham   \n",
       "3                               Yup Ì_ not comin :-(   ham  ham   \n",
       "4                         WOT U WANNA DO THEN MISSY?   ham  ham   \n",
       "\n",
       "                result  \n",
       "0  verdadeiro negativo  \n",
       "1  verdadeiro negativo  \n",
       "2  verdadeiro negativo  \n",
       "3  verdadeiro negativo  \n",
       "4  verdadeiro negativo  "
      ]
     },
     "execution_count": 17,
     "metadata": {},
     "output_type": "execute_result"
    }
   ],
   "source": [
    "Teste.head()"
   ]
  },
  {
   "cell_type": "code",
   "execution_count": null,
   "metadata": {
    "collapsed": true
   },
   "outputs": [],
   "source": []
  }
 ],
 "metadata": {
  "kernelspec": {
   "display_name": "Python 3",
   "language": "python",
   "name": "python3"
  },
  "language_info": {
   "codemirror_mode": {
    "name": "ipython",
    "version": 3
   },
   "file_extension": ".py",
   "mimetype": "text/x-python",
   "name": "python",
   "nbconvert_exporter": "python",
   "pygments_lexer": "ipython3",
   "version": "3.6.1"
  }
 },
 "nbformat": 4,
 "nbformat_minor": 2
}
