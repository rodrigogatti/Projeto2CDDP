{
 "cells": [
  {
   "cell_type": "markdown",
   "metadata": {},
   "source": [
    "___\n",
    "# Ciência dos Dados - PROJETO 2"
   ]
  },
  {
   "cell_type": "markdown",
   "metadata": {},
   "source": [
    "___\n",
    "## Luciana Cocito Alves de Freitas\n",
    "\n",
    "## Rodrigo Gatti Coutinho\n",
    "\n",
    "___"
   ]
  },
  {
   "cell_type": "markdown",
   "metadata": {},
   "source": [
    "___\n",
    "\n",
    "## 1. Problema\n",
    "\n",
    "O Classificador Naive-Bayes, o qual se baseia no uso do teorema de Bayes, é largamente utilizado em filtros anti-spam de e-mails. O classificador permite calcular qual a probabilidade de uma mensagem ser SPAM considerando as palavras em seu conteúdo e, de forma complementar, permite calcular a probabilidade de uma mensagem ser HAM dada as palavras descritas na mensagem.\n",
    "\n",
    "Para realizar o MVP (minimum viable product) do projeto, você precisa programar uma versão do classificador que \"aprende\" o que é uma mensagem SPAM considerando uma base de treinamento e comparar o desempenho dos resultados com uma base de testes. \n"
   ]
  },
  {
   "cell_type": "markdown",
   "metadata": {},
   "source": [
    "___\n",
    "## 2. Separação da base de dados em Treinamento e Teste\n",
    "\n",
    "A base de dados deve ser separada em duas partes, aleatoriamente, considerando: \n",
    "    \n",
    "    75% dos dados para a parte Treinamento; e\n",
    "    25% dos dados para a parte Teste."
   ]
  },
  {
   "cell_type": "code",
   "execution_count": 1,
   "metadata": {},
   "outputs": [],
   "source": [
    "import pandas as pd\n",
    "import os\n",
    "import numpy as np\n",
    "import matplotlib.pyplot as plt\n",
    "from collections import Counter"
   ]
  },
  {
   "cell_type": "code",
   "execution_count": 2,
   "metadata": {},
   "outputs": [
    {
     "name": "stdout",
     "output_type": "stream",
     "text": [
      "Esperamos trabalhar no diretório\n",
      "C:\\Users\\lucia\\OneDrive\\Documentos\\GitHub\\CD DP\\P2\\Projeto2CDDP\\Projeto2CDDP-master\n"
     ]
    }
   ],
   "source": [
    "print('Esperamos trabalhar no diretório')\n",
    "print(os.getcwd())"
   ]
  },
  {
   "cell_type": "code",
   "execution_count": 3,
   "metadata": {
    "collapsed": true
   },
   "outputs": [],
   "source": [
    "base_dados = pd.read_excel('spamhamV2.xlsx')"
   ]
  },
  {
   "cell_type": "markdown",
   "metadata": {},
   "source": [
    "Tirando todos os tipos de caracteres que podem interferir."
   ]
  },
  {
   "cell_type": "code",
   "execution_count": 4,
   "metadata": {},
   "outputs": [
    {
     "data": {
      "text/html": [
       "<div>\n",
       "<style>\n",
       "    .dataframe thead tr:only-child th {\n",
       "        text-align: right;\n",
       "    }\n",
       "\n",
       "    .dataframe thead th {\n",
       "        text-align: left;\n",
       "    }\n",
       "\n",
       "    .dataframe tbody tr th {\n",
       "        vertical-align: top;\n",
       "    }\n",
       "</style>\n",
       "<table border=\"1\" class=\"dataframe\">\n",
       "  <thead>\n",
       "    <tr style=\"text-align: right;\">\n",
       "      <th></th>\n",
       "      <th>Email</th>\n",
       "      <th>Class</th>\n",
       "    </tr>\n",
       "  </thead>\n",
       "  <tbody>\n",
       "    <tr>\n",
       "      <th>0</th>\n",
       "      <td>Go until jurong point crazy Available only in ...</td>\n",
       "      <td>ham</td>\n",
       "    </tr>\n",
       "    <tr>\n",
       "      <th>1</th>\n",
       "      <td>Ok lar Joking wif u oni</td>\n",
       "      <td>ham</td>\n",
       "    </tr>\n",
       "    <tr>\n",
       "      <th>2</th>\n",
       "      <td>Free entry in 2 a wkly comp to win FA Cup fina...</td>\n",
       "      <td>spam</td>\n",
       "    </tr>\n",
       "    <tr>\n",
       "      <th>3</th>\n",
       "      <td>U dun say so early hor U c already then say</td>\n",
       "      <td>ham</td>\n",
       "    </tr>\n",
       "    <tr>\n",
       "      <th>4</th>\n",
       "      <td>Nah I don't think he goes to usf he lives arou...</td>\n",
       "      <td>ham</td>\n",
       "    </tr>\n",
       "  </tbody>\n",
       "</table>\n",
       "</div>"
      ],
      "text/plain": [
       "                                               Email Class\n",
       "0  Go until jurong point crazy Available only in ...   ham\n",
       "1                            Ok lar Joking wif u oni   ham\n",
       "2  Free entry in 2 a wkly comp to win FA Cup fina...  spam\n",
       "3        U dun say so early hor U c already then say   ham\n",
       "4  Nah I don't think he goes to usf he lives arou...   ham"
      ]
     },
     "execution_count": 4,
     "metadata": {},
     "output_type": "execute_result"
    }
   ],
   "source": [
    "n = base_dados.Email.count()\n",
    "\n",
    "troca = ['÷','  ','‰','!','@','#','$','%','¨','&','*','(',')','-','_','+','=','§','{','}','[',']','ª','º','?','/','°','\\n','|',',','.',';',':','å','£']\n",
    "\n",
    "for e in range(n):\n",
    "    base_dados.Email[e:e+1] = base_dados.Email[e:e+1].str.replace('  ',' ')\n",
    "    for i in troca:\n",
    "        base_dados.Email[e:e+1] = base_dados.Email[e:e+1].str.replace(i,'')\n",
    "\n",
    "base_dados.head()"
   ]
  },
  {
   "cell_type": "markdown",
   "metadata": {},
   "source": [
    "Separando o Dataframe em 75% para o treinamento e 25% para o teste"
   ]
  },
  {
   "cell_type": "code",
   "execution_count": 5,
   "metadata": {},
   "outputs": [],
   "source": [
    "Treinamento = base_dados.sample(n=None, frac=0.75, replace=False).reset_index()\n",
    "Teste = base_dados.sample(n=None, frac=0.25, replace=False).reset_index()"
   ]
  },
  {
   "cell_type": "markdown",
   "metadata": {},
   "source": [
    "___\n",
    "## 3. Classificador Naive-Bayes"
   ]
  },
  {
   "cell_type": "markdown",
   "metadata": {},
   "source": [
    "Fazendo valuecounts do treinamento."
   ]
  },
  {
   "cell_type": "code",
   "execution_count": 6,
   "metadata": {},
   "outputs": [
    {
     "data": {
      "text/html": [
       "<div>\n",
       "<style>\n",
       "    .dataframe thead tr:only-child th {\n",
       "        text-align: right;\n",
       "    }\n",
       "\n",
       "    .dataframe thead th {\n",
       "        text-align: left;\n",
       "    }\n",
       "\n",
       "    .dataframe tbody tr th {\n",
       "        vertical-align: top;\n",
       "    }\n",
       "</style>\n",
       "<table border=\"1\" class=\"dataframe\">\n",
       "  <thead>\n",
       "    <tr style=\"text-align: right;\">\n",
       "      <th></th>\n",
       "      <th>Class</th>\n",
       "    </tr>\n",
       "  </thead>\n",
       "  <tbody>\n",
       "    <tr>\n",
       "      <th>ham</th>\n",
       "      <td>3608</td>\n",
       "    </tr>\n",
       "    <tr>\n",
       "      <th>spam</th>\n",
       "      <td>571</td>\n",
       "    </tr>\n",
       "  </tbody>\n",
       "</table>\n",
       "</div>"
      ],
      "text/plain": [
       "      Class\n",
       "ham    3608\n",
       "spam    571"
      ]
     },
     "execution_count": 6,
     "metadata": {},
     "output_type": "execute_result"
    }
   ],
   "source": [
    "\n",
    "valuecounts_Treinamento = pd.DataFrame(Treinamento.Class.value_counts())\n",
    "valuecounts_Treinamento\n"
   ]
  },
  {
   "cell_type": "markdown",
   "metadata": {},
   "source": [
    "Fazendo valuecounts para Spam e Ham."
   ]
  },
  {
   "cell_type": "code",
   "execution_count": 7,
   "metadata": {},
   "outputs": [],
   "source": [
    "EHAM = valuecounts_Treinamento.Class[0]\n",
    "ESPAM = valuecounts_Treinamento.Class[1]"
   ]
  },
  {
   "cell_type": "markdown",
   "metadata": {},
   "source": [
    "Quantidade de emails ham e Spam e suas probabilidades."
   ]
  },
  {
   "cell_type": "code",
   "execution_count": 8,
   "metadata": {},
   "outputs": [
    {
     "name": "stdout",
     "output_type": "stream",
     "text": [
      "De um total de 4179 emails, 3608 são considerados Ham e 571 são considerados Spam.\n",
      "Logo, a probabilidade de um email ser considerado Ham é de 86.33644412538885%, e de ser Spam é de 13.66355587461115%\n"
     ]
    }
   ],
   "source": [
    "\n",
    "Etotal = len(Treinamento)\n",
    "        \n",
    "print('De um total de {0} emails, {1} são considerados Ham e {2} são considerados Spam.'.format(Etotal,EHAM,ESPAM))\n",
    "Prob_h = EHAM/Etotal\n",
    "Prob_s = ESPAM/Etotal\n",
    "print('Logo, a probabilidade de um email ser considerado Ham é de {0}%, e de ser Spam é de {1}%'.format(Prob_h*100,Prob_s*100))\n",
    "\n",
    "PROBS = Prob_s\n",
    "PROBH = Prob_h"
   ]
  },
  {
   "cell_type": "markdown",
   "metadata": {},
   "source": [
    "Fizemos um dicionario que nos mostra a quantidade de vezes que uma palavra aparece em m email Ham seguido de Spam e suas probabilidades."
   ]
  },
  {
   "cell_type": "code",
   "execution_count": 9,
   "metadata": {
    "collapsed": true
   },
   "outputs": [],
   "source": [
    "dici = {}\n",
    "for i in range(Etotal):\n",
    "    for palavra in Treinamento.Email[i]:\n",
    "        if Treinamento.Class[i] == \"ham\":\n",
    "            if palavra not in dici:\n",
    "                dici[palavra] = 1,0\n",
    "            else:\n",
    "                h=dici[palavra][0]\n",
    "                s=dici[palavra][1]\n",
    "                dici[palavra]=h+1,s\n",
    "        else:\n",
    "            if palavra not in dici:\n",
    "                dici[palavra] = 0,1\n",
    "            else:\n",
    "                h=dici[palavra][0]\n",
    "                s=dici[palavra][1]\n",
    "                dici[palavra]=h,s+1\n",
    "                \n",
    "Tham=0\n",
    "Tspam=0\n",
    "for i in dici:\n",
    "    Tham+=dici[i][0]\n",
    "    Tspam+=dici[i][1]\n",
    "for i in dici:\n",
    "    h=dici[i][0]\n",
    "    s=dici[i][1]\n",
    "    P_ham=(h+1)/((Tham*2)+Tspam)\n",
    "    P_spam=(s+1)/((Tspam*2)+Tham)\n",
    "    dici[i]=h,s,P_ham,P_spam"
   ]
  },
  {
   "cell_type": "markdown",
   "metadata": {},
   "source": [
    "Implementação do Naive Bayes."
   ]
  },
  {
   "cell_type": "code",
   "execution_count": 10,
   "metadata": {
    "scrolled": true
   },
   "outputs": [],
   "source": [
    "def NB (frase):\n",
    "    Prob_h = EHAM/Etotal\n",
    "    Prob_s = ESPAM/Etotal\n",
    "\n",
    "    for palavra in frase:\n",
    "        if palavra in dici:\n",
    "            Prob_s = Prob_s* dici[palavra][3]\n",
    "            Prob_h=Prob_h* dici[palavra][2]\n",
    "           \n",
    "            \n",
    "        else:\n",
    "            Prob_s = (Prob_s+1)/Treino_palavras\n",
    "            Prob_h = (Prob_h+1)/Treino_palavras\n",
    "    if Prob_s>Prob_h:\n",
    "        return(\"spam\")\n",
    "    else:\n",
    "        return(\"ham\")\n",
    "    \n",
    "def funcao_test(Teste):\n",
    "    frase = Teste.Email\n",
    "    return NB(frase)\n",
    "\n",
    "Test = Teste.apply(funcao_test,axis=1)\n",
    "Teste[\"NB\"] = Test"
   ]
  },
  {
   "cell_type": "markdown",
   "metadata": {},
   "source": [
    "Analisamos a quantidade de verdadeiro negativo, falso positivo, verdadeiro positivo e falso negativo."
   ]
  },
  {
   "cell_type": "code",
   "execution_count": 11,
   "metadata": {},
   "outputs": [
    {
     "data": {
      "text/plain": [
       "verdadeiro negativo     1194\n",
       "falso positivo           192\n",
       "verdadeiro positivo        7\n",
       "Name: result, dtype: int64"
      ]
     },
     "execution_count": 11,
     "metadata": {},
     "output_type": "execute_result"
    }
   ],
   "source": [
    "VN=Teste.loc[(Teste.Class == \"ham\") & (Teste.NB == \"ham\"),\"result\"] = \"verdadeiro negativo\"\n",
    "VP=Teste.loc[(Teste.Class == \"spam\") & (Teste.NB == \"spam\"),\"result\"] = \"verdadeiro positivo \"\n",
    "FP=Teste.loc[(Teste.Class == \"spam\") & (Teste.NB == \"ham\"),\"result\"] = \"falso positivo\"\n",
    "FN=Teste.loc[(Teste.Class == \"ham\") & (Teste.NB == \"sam\"),\"result\"] = \"falso negativo\"\n",
    "Teste.result.value_counts()"
   ]
  },
  {
   "cell_type": "markdown",
   "metadata": {},
   "source": [
    "Fizemos crosstab das analises dadas versus das que nós analisamos."
   ]
  },
  {
   "cell_type": "code",
   "execution_count": 12,
   "metadata": {},
   "outputs": [
    {
     "data": {
      "text/html": [
       "<div>\n",
       "<style>\n",
       "    .dataframe thead tr:only-child th {\n",
       "        text-align: right;\n",
       "    }\n",
       "\n",
       "    .dataframe thead th {\n",
       "        text-align: left;\n",
       "    }\n",
       "\n",
       "    .dataframe tbody tr th {\n",
       "        vertical-align: top;\n",
       "    }\n",
       "</style>\n",
       "<table border=\"1\" class=\"dataframe\">\n",
       "  <thead>\n",
       "    <tr style=\"text-align: right;\">\n",
       "      <th>NB</th>\n",
       "      <th>ham</th>\n",
       "      <th>spam</th>\n",
       "    </tr>\n",
       "    <tr>\n",
       "      <th>Class</th>\n",
       "      <th></th>\n",
       "      <th></th>\n",
       "    </tr>\n",
       "  </thead>\n",
       "  <tbody>\n",
       "    <tr>\n",
       "      <th>ham</th>\n",
       "      <td>1194</td>\n",
       "      <td>0</td>\n",
       "    </tr>\n",
       "    <tr>\n",
       "      <th>spam</th>\n",
       "      <td>192</td>\n",
       "      <td>7</td>\n",
       "    </tr>\n",
       "  </tbody>\n",
       "</table>\n",
       "</div>"
      ],
      "text/plain": [
       "NB      ham  spam\n",
       "Class            \n",
       "ham    1194     0\n",
       "spam    192     7"
      ]
     },
     "execution_count": 12,
     "metadata": {},
     "output_type": "execute_result"
    }
   ],
   "source": [
    "rodrigo=pd.crosstab(Teste.Class, Teste.NB)\n",
    "rodrigo"
   ]
  },
  {
   "cell_type": "code",
   "execution_count": 13,
   "metadata": {
    "collapsed": true
   },
   "outputs": [],
   "source": [
    "VP=rodrigo.ham[0]\n",
    "FP=rodrigo.ham[1]\n",
    "FN=rodrigo.spam[0]\n",
    "VN=rodrigo.spam[1]"
   ]
  },
  {
   "cell_type": "markdown",
   "metadata": {},
   "source": [
    "Analisamos a probabilidade de verdadeiro negativo, falso positivo, verdadeiro positivo e falso negativo."
   ]
  },
  {
   "cell_type": "code",
   "execution_count": 14,
   "metadata": {},
   "outputs": [
    {
     "name": "stdout",
     "output_type": "stream",
     "text": [
      "A probabilidade de acontecer um verdadeiro negativo é de 0.5025125628140703%.\n",
      "A probabilidade de acontecer um verdadeiro positivo é de 85.71428571428571%.\n",
      "A probabilidade de acontecer um falso positivo é de 13.783201722900214%.\n",
      "A probabilidade de acontecer um falso negativo é de 0.0%.\n"
     ]
    }
   ],
   "source": [
    "P_VN = (VN/len(Teste))*100\n",
    "P_VP = (VP/len(Teste))*100\n",
    "P_FP = (FP/len(Teste))*100\n",
    "P_FN = (FN/len(Teste))*100\n",
    "\n",
    "print(\"A probabilidade de acontecer um verdadeiro negativo é de {0}%.\" .format(P_VN))\n",
    "print(\"A probabilidade de acontecer um verdadeiro positivo é de {0}%.\" .format(P_VP))\n",
    "print(\"A probabilidade de acontecer um falso positivo é de {0}%.\" .format(P_FP))\n",
    "print(\"A probabilidade de acontecer um falso negativo é de {0}%.\" .format(P_FN))"
   ]
  },
  {
   "cell_type": "markdown",
   "metadata": {},
   "source": [
    "___\n",
    "## 4. Curva ROC"
   ]
  },
  {
   "cell_type": "code",
   "execution_count": 15,
   "metadata": {},
   "outputs": [],
   "source": [
    "def NBroc (frase,pc):\n",
    "    Prob_h = EHAM/Etotal\n",
    "    Prob_s = ESPAM/Etotal\n",
    "\n",
    "    for palavra in frase:\n",
    "        if palavra in dici:\n",
    "            Prob_s = Prob_s* dici[palavra][3]\n",
    "            Prob_h=Prob_h* dici[palavra][2]\n",
    "           \n",
    "            \n",
    "        else:\n",
    "            Prob_s = (Prob_s+1)/dici\n",
    "            Prob_h = (Prob_h+1)/dici\n",
    "    if Prob_s*PROBS>pc*(Prob_s*PROBS+Prob_h*PROBH):\n",
    "        return(\"spam\")\n",
    "    else:\n",
    "        return(\"ham\")\n",
    "    \n"
   ]
  },
  {
   "cell_type": "code",
   "execution_count": 16,
   "metadata": {},
   "outputs": [],
   "source": [
    "n=Teste.shape[0]"
   ]
  },
  {
   "cell_type": "code",
   "execution_count": 17,
   "metadata": {},
   "outputs": [
    {
     "data": {
      "text/html": [
       "<div>\n",
       "<style>\n",
       "    .dataframe thead tr:only-child th {\n",
       "        text-align: right;\n",
       "    }\n",
       "\n",
       "    .dataframe thead th {\n",
       "        text-align: left;\n",
       "    }\n",
       "\n",
       "    .dataframe tbody tr th {\n",
       "        vertical-align: top;\n",
       "    }\n",
       "</style>\n",
       "<table border=\"1\" class=\"dataframe\">\n",
       "  <thead>\n",
       "    <tr style=\"text-align: right;\">\n",
       "      <th></th>\n",
       "      <th>index</th>\n",
       "      <th>Email</th>\n",
       "      <th>Class</th>\n",
       "      <th>NB</th>\n",
       "      <th>result</th>\n",
       "    </tr>\n",
       "  </thead>\n",
       "  <tbody>\n",
       "    <tr>\n",
       "      <th>0</th>\n",
       "      <td>4703</td>\n",
       "      <td>Yar but they say got some error</td>\n",
       "      <td>ham</td>\n",
       "      <td>ham</td>\n",
       "      <td>verdadeiro negativo</td>\n",
       "    </tr>\n",
       "    <tr>\n",
       "      <th>1</th>\n",
       "      <td>4722</td>\n",
       "      <td>HELLO PEACH MY CAKE TASTS LUSH</td>\n",
       "      <td>ham</td>\n",
       "      <td>ham</td>\n",
       "      <td>verdadeiro negativo</td>\n",
       "    </tr>\n",
       "    <tr>\n",
       "      <th>2</th>\n",
       "      <td>4039</td>\n",
       "      <td>I'm at home n ready</td>\n",
       "      <td>ham</td>\n",
       "      <td>ham</td>\n",
       "      <td>verdadeiro negativo</td>\n",
       "    </tr>\n",
       "    <tr>\n",
       "      <th>3</th>\n",
       "      <td>3169</td>\n",
       "      <td>Mah b I'll pick it up tomorrow</td>\n",
       "      <td>ham</td>\n",
       "      <td>ham</td>\n",
       "      <td>verdadeiro negativo</td>\n",
       "    </tr>\n",
       "    <tr>\n",
       "      <th>4</th>\n",
       "      <td>2466</td>\n",
       "      <td>Is there coming friday is leave for pongaldo y...</td>\n",
       "      <td>ham</td>\n",
       "      <td>ham</td>\n",
       "      <td>verdadeiro negativo</td>\n",
       "    </tr>\n",
       "  </tbody>\n",
       "</table>\n",
       "</div>"
      ],
      "text/plain": [
       "   index                                              Email Class   NB  \\\n",
       "0   4703                    Yar but they say got some error   ham  ham   \n",
       "1   4722                     HELLO PEACH MY CAKE TASTS LUSH   ham  ham   \n",
       "2   4039                                I'm at home n ready   ham  ham   \n",
       "3   3169                     Mah b I'll pick it up tomorrow   ham  ham   \n",
       "4   2466  Is there coming friday is leave for pongaldo y...   ham  ham   \n",
       "\n",
       "                result  \n",
       "0  verdadeiro negativo  \n",
       "1  verdadeiro negativo  \n",
       "2  verdadeiro negativo  \n",
       "3  verdadeiro negativo  \n",
       "4  verdadeiro negativo  "
      ]
     },
     "execution_count": 17,
     "metadata": {},
     "output_type": "execute_result"
    }
   ],
   "source": [
    "Teste.head()"
   ]
  },
  {
   "cell_type": "code",
   "execution_count": 18,
   "metadata": {
    "scrolled": false
   },
   "outputs": [],
   "source": [
    "#Sensibilidade\n",
    "sensibilidade=[]\n",
    "#Especificidade\n",
    "especificidade=[]\n",
    "\n",
    "t = np.arange(0.01,1,0.01)\n",
    "for pc in t:\n",
    "    lista_testeroc=[]\n",
    "    lista_pc=[pc]*n\n",
    "    for email in Teste.Email:\n",
    "        Testeroc=NBroc(email,pc)\n",
    "        lista_testeroc.append(Testeroc)\n",
    "    Teste[\"NB\"] = lista_testeroc\n",
    "    rodrigo=pd.crosstab(Teste.Class, Teste.NB)\n",
    "    \n",
    "    VP=rodrigo.ham[0]\n",
    "    FP=rodrigo.ham[1]\n",
    "    FN=rodrigo.spam[0]\n",
    "    VN=rodrigo.spam[1]\n",
    "    \n",
    "    espec=VN/(VN+FP)\n",
    "    sens=VP/(VP+FN)\n",
    "    \n",
    "    sensibilidade.append(sens)\n",
    "    especificidade.append(espec)\n",
    "    \n",
    "    "
   ]
  },
  {
   "cell_type": "code",
   "execution_count": 19,
   "metadata": {
    "collapsed": true
   },
   "outputs": [],
   "source": [
    "espec_c=[]\n",
    "for k in especificidade:\n",
    "    espec_c.append(1-k)"
   ]
  },
  {
   "cell_type": "code",
   "execution_count": 20,
   "metadata": {},
   "outputs": [
    {
     "data": {
      "image/png": "[encoded data removed]",
      "text/plain": [
       "<matplotlib.figure.Figure at 0x1ca0b4d6f98>"
      ]
     },
     "metadata": {},
     "output_type": "display_data"
    }
   ],
   "source": [
    "plt.plot(espec_c,sensibilidade)\n",
    "plt.show()"
   ]
  },
  {
   "cell_type": "code",
   "execution_count": null,
   "metadata": {},
   "outputs": [],
   "source": []
  },
  {
   "cell_type": "code",
   "execution_count": null,
   "metadata": {
    "collapsed": true
   },
   "outputs": [],
   "source": []
  },
  {
   "cell_type": "markdown",
   "metadata": {},
   "source": [
    "___\n",
    "## 5. Qualidade do Classificador alterando a base de treinamento"
   ]
  },
  {
   "cell_type": "code",
   "execution_count": null,
   "metadata": {
    "collapsed": true
   },
   "outputs": [],
   "source": []
  },
  {
   "cell_type": "code",
   "execution_count": null,
   "metadata": {
    "collapsed": true
   },
   "outputs": [],
   "source": []
  },
  {
   "cell_type": "code",
   "execution_count": null,
   "metadata": {
    "collapsed": true
   },
   "outputs": [],
   "source": []
  },
  {
   "cell_type": "code",
   "execution_count": null,
   "metadata": {
    "collapsed": true
   },
   "outputs": [],
   "source": []
  }
 ],
 "metadata": {
  "anaconda-cloud": {},
  "kernelspec": {
   "display_name": "Python 3",
   "language": "python",
   "name": "python3"
  },
  "language_info": {
   "codemirror_mode": {
    "name": "ipython",
    "version": 3
   },
   "file_extension": ".py",
   "mimetype": "text/x-python",
   "name": "python",
   "nbconvert_exporter": "python",
   "pygments_lexer": "ipython3",
   "version": "3.6.1"
  }
 },
 "nbformat": 4,
 "nbformat_minor": 1
}
