{
 "cells": [
  {
   "cell_type": "markdown",
   "metadata": {},
   "source": [
    "___\n",
    "# Ciência dos Dados - PROJETO 2"
   ]
  },
  {
   "cell_type": "markdown",
   "metadata": {},
   "source": [
    "___\n",
    "## Nome 1\n",
    "\n",
    "## Nome 2\n",
    "\n",
    "___"
   ]
  },
  {
   "cell_type": "markdown",
   "metadata": {},
   "source": [
    "___\n",
    "\n",
    "## 1. Problema\n",
    "\n",
    "O Classificador Naive-Bayes, o qual se baseia no uso do teorema de Bayes, é largamente utilizado em filtros anti-spam de e-mails. O classificador permite calcular qual a probabilidade de uma mensagem ser SPAM considerando as palavras em seu conteúdo e, de forma complementar, permite calcular a probabilidade de uma mensagem ser HAM dada as palavras descritas na mensagem.\n",
    "\n",
    "Para realizar o MVP (minimum viable product) do projeto, você precisa programar uma versão do classificador que \"aprende\" o que é uma mensagem SPAM considerando uma base de treinamento e comparar o desempenho dos resultados com uma base de testes. \n"
   ]
  },
  {
   "cell_type": "markdown",
   "metadata": {},
   "source": [
    "___\n",
    "## 2. Separação da base de dados em Treinamento e Teste\n",
    "\n",
    "A base de dados deve ser separada em duas partes, aleatoriamente, considerando: \n",
    "    \n",
    "    75% dos dados para a parte Treinamento; e\n",
    "    25% dos dados para a parte Teste."
   ]
  },
  {
   "cell_type": "code",
   "execution_count": 1,
   "metadata": {
    "collapsed": true
   },
   "outputs": [],
   "source": [
    "import pandas as pd\n",
    "import os\n",
    "import numpy as np"
   ]
  },
  {
   "cell_type": "code",
   "execution_count": 2,
   "metadata": {},
   "outputs": [
    {
     "name": "stdout",
     "output_type": "stream",
     "text": [
      "Esperamos trabalhar no diretório\n",
      "C:\\Users\\lucia\\OneDrive\\Documentos\\GitHub\\CD DP\\P2\\Projeto2CDDP\\Projeto2CDDP-master\n"
     ]
    }
   ],
   "source": [
    "print('Esperamos trabalhar no diretório')\n",
    "print(os.getcwd())"
   ]
  },
  {
   "cell_type": "code",
   "execution_count": 3,
   "metadata": {
    "collapsed": true
   },
   "outputs": [],
   "source": [
    "base_dados = pd.read_excel('spamhamV2.xlsx')"
   ]
  },
  {
   "cell_type": "code",
   "execution_count": 4,
   "metadata": {
    "collapsed": true
   },
   "outputs": [],
   "source": [
    "base_dados = base_dados.iloc[np.random.permutation(len(base_dados))]"
   ]
  },
  {
   "cell_type": "code",
   "execution_count": 5,
   "metadata": {
    "collapsed": true
   },
   "outputs": [],
   "source": [
    "setente_cinco = int(base_dados.Email.count()*0.75)"
   ]
  },
  {
   "cell_type": "code",
   "execution_count": 6,
   "metadata": {
    "collapsed": true
   },
   "outputs": [],
   "source": [
    "base_treino = base_dados.iloc[:setente_cinco]\n",
    "base_teste = base_dados.iloc[setente_cinco:base_dados.Email.count()]"
   ]
  },
  {
   "cell_type": "markdown",
   "metadata": {},
   "source": [
    "___\n",
    "## 3. Classificador Naive-Bayes"
   ]
  },
  {
   "cell_type": "code",
   "execution_count": 7,
   "metadata": {},
   "outputs": [
    {
     "data": {
      "text/html": [
       "<div>\n",
       "<style>\n",
       "    .dataframe thead tr:only-child th {\n",
       "        text-align: right;\n",
       "    }\n",
       "\n",
       "    .dataframe thead th {\n",
       "        text-align: left;\n",
       "    }\n",
       "\n",
       "    .dataframe tbody tr th {\n",
       "        vertical-align: top;\n",
       "    }\n",
       "</style>\n",
       "<table border=\"1\" class=\"dataframe\">\n",
       "  <thead>\n",
       "    <tr style=\"text-align: right;\">\n",
       "      <th></th>\n",
       "      <th>Email</th>\n",
       "      <th>Class</th>\n",
       "    </tr>\n",
       "  </thead>\n",
       "  <tbody>\n",
       "    <tr>\n",
       "      <th>2699</th>\n",
       "      <td>Feb ltgt is \\I LOVE U\\\" day Send dis to all ur...</td>\n",
       "      <td>ham</td>\n",
       "    </tr>\n",
       "    <tr>\n",
       "      <th>2385</th>\n",
       "      <td>No messageno responcewhat happend</td>\n",
       "      <td>ham</td>\n",
       "    </tr>\n",
       "    <tr>\n",
       "      <th>3734</th>\n",
       "      <td>ItÛs 6 to get in is that ok</td>\n",
       "      <td>ham</td>\n",
       "    </tr>\n",
       "    <tr>\n",
       "      <th>2524</th>\n",
       "      <td>Say this slowly GODI LOVE YOU amp I NEED YOUCL...</td>\n",
       "      <td>ham</td>\n",
       "    </tr>\n",
       "    <tr>\n",
       "      <th>5161</th>\n",
       "      <td>Lol no I just need to cash in my nitros Hurry ...</td>\n",
       "      <td>ham</td>\n",
       "    </tr>\n",
       "  </tbody>\n",
       "</table>\n",
       "</div>"
      ],
      "text/plain": [
       "                                                  Email Class\n",
       "2699  Feb ltgt is \\I LOVE U\\\" day Send dis to all ur...   ham\n",
       "2385                  No messageno responcewhat happend   ham\n",
       "3734                        ItÛs 6 to get in is that ok   ham\n",
       "2524  Say this slowly GODI LOVE YOU amp I NEED YOUCL...   ham\n",
       "5161  Lol no I just need to cash in my nitros Hurry ...   ham"
      ]
     },
     "execution_count": 7,
     "metadata": {},
     "output_type": "execute_result"
    }
   ],
   "source": [
    "n = base_dados.Email.count()\n",
    "\n",
    "troca = ['÷','  ','‰','!','@','#','$','%','¨','&','*','(',')','-','_','+','=','§','{','}','[',']','ª','º','?','/','°','\\n','|',',','.',';',':','å','£']\n",
    "\n",
    "for e in range(n):\n",
    "    base_dados.Email[e:e+1] = base_dados.Email[e:e+1].str.replace('  ',' ')\n",
    "    for i in troca:\n",
    "        base_dados.Email[e:e+1] = base_dados.Email[e:e+1].str.replace(i,'')\n",
    "\n",
    "base_dados.head()"
   ]
  },
  {
   "cell_type": "code",
   "execution_count": 8,
   "metadata": {},
   "outputs": [
    {
     "data": {
      "text/html": [
       "<div>\n",
       "<style>\n",
       "    .dataframe thead tr:only-child th {\n",
       "        text-align: right;\n",
       "    }\n",
       "\n",
       "    .dataframe thead th {\n",
       "        text-align: left;\n",
       "    }\n",
       "\n",
       "    .dataframe tbody tr th {\n",
       "        vertical-align: top;\n",
       "    }\n",
       "</style>\n",
       "<table border=\"1\" class=\"dataframe\">\n",
       "  <thead>\n",
       "    <tr style=\"text-align: right;\">\n",
       "      <th></th>\n",
       "      <th>Class</th>\n",
       "    </tr>\n",
       "  </thead>\n",
       "  <tbody>\n",
       "    <tr>\n",
       "      <th>ham</th>\n",
       "      <td>0.867911</td>\n",
       "    </tr>\n",
       "    <tr>\n",
       "      <th>spam</th>\n",
       "      <td>0.132089</td>\n",
       "    </tr>\n",
       "  </tbody>\n",
       "</table>\n",
       "</div>"
      ],
      "text/plain": [
       "         Class\n",
       "ham   0.867911\n",
       "spam  0.132089"
      ]
     },
     "execution_count": 8,
     "metadata": {},
     "output_type": "execute_result"
    }
   ],
   "source": [
    "EHAM= base_treino.Email[base_treino.Class=='ham'].values\n",
    "ESPAM= base_treino.Email[base_treino.Class=='spam'].values\n",
    "\n",
    "valuecounts_Treinamento = pd.DataFrame(base_treino.Class.value_counts(True))\n",
    "valuecounts_Treinamento"
   ]
  },
  {
   "cell_type": "code",
   "execution_count": null,
   "metadata": {},
   "outputs": [
    {
     "data": {
      "text/html": [
       "<div>\n",
       "<style>\n",
       "    .dataframe thead tr:only-child th {\n",
       "        text-align: right;\n",
       "    }\n",
       "\n",
       "    .dataframe thead th {\n",
       "        text-align: left;\n",
       "    }\n",
       "\n",
       "    .dataframe tbody tr th {\n",
       "        vertical-align: top;\n",
       "    }\n",
       "</style>\n",
       "<table border=\"1\" class=\"dataframe\">\n",
       "  <thead>\n",
       "    <tr style=\"text-align: right;\">\n",
       "      <th></th>\n",
       "      <th>classificacao</th>\n",
       "      <th>palavras</th>\n",
       "    </tr>\n",
       "  </thead>\n",
       "  <tbody>\n",
       "    <tr>\n",
       "      <th>0</th>\n",
       "      <td>ham</td>\n",
       "      <td>2699</td>\n",
       "    </tr>\n",
       "    <tr>\n",
       "      <th>1</th>\n",
       "      <td>ham</td>\n",
       "      <td>Feb</td>\n",
       "    </tr>\n",
       "    <tr>\n",
       "      <th>2</th>\n",
       "      <td>ham</td>\n",
       "      <td>ltgt</td>\n",
       "    </tr>\n",
       "    <tr>\n",
       "      <th>3</th>\n",
       "      <td>ham</td>\n",
       "      <td>is</td>\n",
       "    </tr>\n",
       "    <tr>\n",
       "      <th>4</th>\n",
       "      <td>ham</td>\n",
       "      <td>\\I</td>\n",
       "    </tr>\n",
       "  </tbody>\n",
       "</table>\n",
       "</div>"
      ],
      "text/plain": [
       "  classificacao palavras\n",
       "0           ham     2699\n",
       "1           ham      Feb\n",
       "2           ham     ltgt\n",
       "3           ham       is\n",
       "4           ham       \\I"
      ]
     },
     "execution_count": 9,
     "metadata": {},
     "output_type": "execute_result"
    }
   ],
   "source": [
    "# listaham=[]\n",
    "# listaspam=[]\n",
    "palavras_total=[]\n",
    "classificacao=[]\n",
    "\n",
    "i=0 \n",
    "while i < len(base_treino):\n",
    "    cache = str(base_treino['Email'][i:i+1]).split()            \n",
    "    for f in cache:\n",
    "        palavras_total.append(f)\n",
    "        classificacao.append(base_treino['Class'][i:i+1].values[0])    \n",
    "    \n",
    "    i+=1\n",
    "palavras = {'palavras': palavras_total,'classificacao': classificacao}\n",
    "wordset = pd.DataFrame(data=palavras)\n",
    "wordset.head()"
   ]
  },
  {
   "cell_type": "code",
   "execution_count": null,
   "metadata": {},
   "outputs": [],
   "source": [
    "contagem = [['no',0,1]] #Lista com lista [palavra,vezes no ham,vezes no spam]\n",
    "\n",
    "i=1 \n",
    "while i < len(wordset):\n",
    "    for p in contagem:\n",
    "        achou = False\n",
    "        if wordset['palavras'][i] == p[0]:\n",
    "            if wordset['classificacao'][i] == 'ham':\n",
    "                p[1] += 1\n",
    "                achou = True\n",
    "                break\n",
    "            else:\n",
    "                p[2] += 1\n",
    "                achou = True\n",
    "                break\n",
    "    if not achou:\n",
    "        if(wordset['classificacao'][i] == 'ham'):\n",
    "            contagem.append([wordset['palavras'][i],1,0])\n",
    "        else:\n",
    "            contagem.append([wordset['palavras'][i],0,1])\n",
    "            \n",
    "       \n",
    "    i+=1\n",
    "\n",
    "\n",
    "print(contagem)"
   ]
  },
  {
   "cell_type": "code",
   "execution_count": null,
   "metadata": {},
   "outputs": [],
   "source": [
    "Eham = 0\n",
    "Espam = 0 \n",
    "Etotal = len(base_treino)\n",
    "for i in base_treino['Class']:\n",
    "    if(i == 'ham'):\n",
    "        Eham += 1\n",
    "    else:\n",
    "        Espam+=1\n",
    "        \n",
    "print('De um total de {0} emails, {1} são considerados Ham e {2} são considerados Spam.'.format(Etotal,Eham,Espam))\n",
    "P_ham = Eham/Etotal\n",
    "P_spam = Espam/Etotal\n",
    "print('Logo, a probabilidade de um email ser considerado Ham é de {0}%, e de ser Spam é de {1}%'.format(P_ham*100,P_spam*100))"
   ]
  },
  {
   "cell_type": "code",
   "execution_count": null,
   "metadata": {},
   "outputs": [],
   "source": [
    "#probabilidade de uma palavra ( ) acontecer se a mensagem na base treinamento é considerada SPAM\n",
    "Ham = 0\n",
    "Spam = 0 \n",
    "for i  in contagem:\n",
    "    if i[1] > 0:\n",
    "        Ham+=1\n",
    "    if i[2] > 0:\n",
    "        Spam+=1\n",
    "print('A quantidade de palavras que podem ser encontradas em um email Ham é de {}, e a quantidade de palavras que podem ser encontradas em um email Spam é de {}.'.format(Ham,Spam))"
   ]
  },
  {
   "cell_type": "code",
   "execution_count": null,
   "metadata": {},
   "outputs": [],
   "source": [
    "#Naive Bayes:\n",
    "#quant_usada('palavra a ser consultada', 'classificação desejada')\n",
    "def funcao1 (palavra,classif):\n",
    "    for j in contagem:\n",
    "        if palavra == j[0]:\n",
    "            if(classif == 'ham'):\n",
    "                return j[1]\n",
    "            else:\n",
    "                return j[2]\n",
    "    return 0\n",
    "\n",
    "\n",
    "words = len(contagem)\n",
    "\n",
    "def funcao2(frase):\n",
    "    Palta = 1\n",
    "    Pbaixa = 1    \n",
    "    for k in frase.split():\n",
    "        Palta = Palta*((funcao1(k,'alta')+1)/(relev+words))\n",
    "        Pbaixa = Pbaixa*((funcao1(k,'baixa')+1)/(nrelev+words))\n",
    "    Palta = Palta*Pham\n",
    "    Pbaixa = Pbaixa*Pspam\n",
    "    if P_alta > P_baixa:\n",
    "        return 'alta'\n",
    "    else:\n",
    "        return 'baixa'"
   ]
  },
  {
   "cell_type": "markdown",
   "metadata": {},
   "source": [
    "___\n",
    "## 4. Curva ROC"
   ]
  },
  {
   "cell_type": "code",
   "execution_count": null,
   "metadata": {
    "collapsed": true
   },
   "outputs": [],
   "source": []
  },
  {
   "cell_type": "code",
   "execution_count": null,
   "metadata": {
    "collapsed": true
   },
   "outputs": [],
   "source": []
  },
  {
   "cell_type": "code",
   "execution_count": null,
   "metadata": {
    "collapsed": true
   },
   "outputs": [],
   "source": []
  },
  {
   "cell_type": "markdown",
   "metadata": {},
   "source": [
    "___\n",
    "## 5. Qualidade do Classificador alterando a base de treinamento"
   ]
  },
  {
   "cell_type": "code",
   "execution_count": null,
   "metadata": {
    "collapsed": true
   },
   "outputs": [],
   "source": []
  },
  {
   "cell_type": "code",
   "execution_count": null,
   "metadata": {
    "collapsed": true
   },
   "outputs": [],
   "source": []
  },
  {
   "cell_type": "code",
   "execution_count": null,
   "metadata": {
    "collapsed": true
   },
   "outputs": [],
   "source": []
  },
  {
   "cell_type": "code",
   "execution_count": null,
   "metadata": {
    "collapsed": true
   },
   "outputs": [],
   "source": []
  }
 ],
 "metadata": {
  "anaconda-cloud": {},
  "kernelspec": {
   "display_name": "Python 3",
   "language": "python",
   "name": "python3"
  },
  "language_info": {
   "codemirror_mode": {
    "name": "ipython",
    "version": 3
   },
   "file_extension": ".py",
   "mimetype": "text/x-python",
   "name": "python",
   "nbconvert_exporter": "python",
   "pygments_lexer": "ipython3",
   "version": "3.6.1"
  }
 },
 "nbformat": 4,
 "nbformat_minor": 1
}
